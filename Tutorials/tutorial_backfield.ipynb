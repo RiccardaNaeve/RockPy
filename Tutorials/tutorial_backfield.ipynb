{
 "cells": [
  {
   "cell_type": "markdown",
   "metadata": {},
   "source": [
    "# Backfield Tutorial\n",
    "\n",
    "Welcome to the backfield tutorial. I will now guide you through the process of creating backfield measurements. We will quickly touch on importing RockPy on your system and adding samples. so first things first.\n",
    "\n",
    "## importing RockPy\n",
    "\n",
    "first thing we have to do is import RockPy and get the plotting interface to actually display all plots inside of this notebook.\n"
   ]
  },
  {
   "cell_type": "markdown",
   "metadata": {},
   "source": [
    "We need to import a few python packages for everything to work. Dont worry about them, if need be, the functions will be explained."
   ]
  },
  {
   "cell_type": "code",
   "execution_count": null,
   "metadata": {
    "collapsed": true
   },
   "outputs": [],
   "source": [
    "import sys\n",
    "import os.path"
   ]
  },
  {
   "cell_type": "code",
   "execution_count": null,
   "metadata": {
    "collapsed": true
   },
   "outputs": [],
   "source": [
    "%matplotlib inline"
   ]
  },
  {
   "cell_type": "code",
   "execution_count": null,
   "metadata": {
    "collapsed": true
   },
   "outputs": [],
   "source": [
    "import Rockpy"
   ]
  },
  {
   "cell_type": "markdown",
   "metadata": {},
   "source": [
    "If this does not work - and you get and ``'ImportError: No module named Rockpy'`` message - you need to place the RockPy path into the ``PYTHONPATH`` variable of your system. For a permanent solution, please ask you system administrator or Google. A temporary fix is presented in the next few lines.\n",
    "First find your RockPy path:"
   ]
  },
  {
   "cell_type": "code",
   "execution_count": 11,
   "metadata": {
    "collapsed": true
   },
   "outputs": [],
   "source": [
    "home = os.path.expanduser('~')\n",
    "RockPy_path = os.path.join(home, 'PycharmProjects')"
   ]
  },
  {
   "cell_type": "markdown",
   "metadata": {},
   "source": [
    "After you found the path and changed ``PycharmProject`` to the folder where you have stored your RockPy version, you can add the path manually. \n",
    "As mentioned before you may not need to do this, if RockPy is properly installed, everything should work out of the box."
   ]
  },
  {
   "cell_type": "code",
   "execution_count": 12,
   "metadata": {
    "collapsed": false
   },
   "outputs": [
    {
     "name": "stderr",
     "output_type": "stream",
     "text": [
      ":0: FutureWarning: IPython widgets are experimental and may change in the future.\n"
     ]
    }
   ],
   "source": [
    "sys.path.append(RockPy_path)\n",
    "import RockPy"
   ]
  },
  {
   "cell_type": "markdown",
   "metadata": {},
   "source": [
    "Now we can make a sample. the sample that we will be using has been measured at the vftb. It consists of pure iron, therefore it should saturate easily. It's mass was 29mg, so we can specify the mass, too.\n",
    "\n",
    "Keep in mind, the default units in a sample are 'mm' and 'kg', if you used a different one, you have to use mass_unit and length_unit"
   ]
  },
  {
   "cell_type": "code",
   "execution_count": 13,
   "metadata": {
    "collapsed": false
   },
   "outputs": [
    {
     "name": "stderr",
     "output_type": "stream",
     "text": [
      "2015-04-17 12:10:37,963: INFO       RockPy.Structure.sample CREATING\t new sample << iron >>\n",
      "INFO:RockPy.Structure.sample:CREATING\t new sample << iron >>\n",
      "2015-04-17 12:10:37,964: INFO       RockPy.Structure.sample  ADDING\t << measurement >> mass\n",
      "INFO:RockPy.Structure.sample: ADDING\t << measurement >> mass\n"
     ]
    }
   ],
   "source": [
    "Sample = RockPy.Sample(name='iron', mass = 29.0, mass_unit ='mg')"
   ]
  },
  {
   "cell_type": "markdown",
   "metadata": {},
   "source": [
    "After the sample is created, we can add the backfield measurement. The file is again located in RockPy.test_data_path"
   ]
  },
  {
   "cell_type": "code",
   "execution_count": 14,
   "metadata": {
    "collapsed": true
   },
   "outputs": [],
   "source": [
    "vftb_file = os.path.join(RockPy.test_data_path, 'vftb', 'MUCVFTB_test.coe')"
   ]
  },
  {
   "cell_type": "markdown",
   "metadata": {},
   "source": [
    "Now that we have the location of the file, we can add it. When adding a measurement you have to specify 3 things.\n",
    "\n",
    "1. ``mtype``: this is the type of measurement, in this case it is 'backfield'\n",
    "2. ``machine``: this is the machine or file format, in this case 'vftb':\n",
    "3. ``mfile``: the location of your file on your harddisk. You can simply copy paste the folder if you want, or do it the way we have been doing in [5] using the builtin methods of ``os.path.join``\n",
    "\n",
    "NOTE:   ``machine`` will be renamend to file_format"
   ]
  },
  {
   "cell_type": "code",
   "execution_count": 15,
   "metadata": {
    "collapsed": false
   },
   "outputs": [
    {
     "name": "stderr",
     "output_type": "stream",
     "text": [
      "2015-04-17 12:10:38,109: INFO       RockPy.Structure.sample  ADDING\t << measurement >> backfield\n",
      "INFO:RockPy.Structure.sample: ADDING\t << measurement >> backfield\n",
      "2015-04-17 12:10:38,114: INFO       RockPy.MEASUREMENT   IMPORTING << vftb , backfield >> data\n",
      "INFO:RockPy.MEASUREMENT:IMPORTING << vftb , backfield >> data\n",
      "2015-04-17 12:10:38,116: INFO       RockPy.READIN        IMPORTING << iron , Vftb >> file: << /Users/mike/PycharmProjects/RockPy/Tutorials/test_data/vftb/MUCVFTB_test.coe >>\n",
      "INFO:RockPy.READIN:IMPORTING << iron , Vftb >> file: << /Users/mike/PycharmProjects/RockPy/Tutorials/test_data/vftb/MUCVFTB_test.coe >>\n"
     ]
    }
   ],
   "source": [
    "Coe = Sample.add_measurement(mtype='backfield', machine='vftb', mfile=vftb_file)"
   ]
  },
  {
   "cell_type": "markdown",
   "metadata": {},
   "source": [
    " The sample now has two measurements.\n",
    " \n",
    " 1. the mass that we added when we created the sample\n",
    " 2. the backfield measurement that we added just now.\n",
    " \n",
    " ### Plotting the data\n",
    " We can now look at the data. The easiest and most basic way is to just use ``THE_MEASUEMENT.plt_mtype`` \n",
    " where ``THE_MEASUREMENT`` is the measurement instance and ``plt_mtype`` is specific for the type of measurement, here ``plt_backfield``"
   ]
  },
  {
   "cell_type": "code",
   "execution_count": 16,
   "metadata": {
    "collapsed": false
   },
   "outputs": [
    {
     "data": {
      "image/png": "[encoded data removed]"
     },
     "metadata": {},
     "output_type": "display_data"
    }
   ],
   "source": [
    "Coe.plt_backfield()"
   ]
  },
  {
   "cell_type": "markdown",
   "metadata": {},
   "source": [
    "Thats it, you have a plot of the backfield curve. \n",
    "\n",
    "## Results\n",
    "We can now start to look at the different values that we can calculate from the data. You can check them by typing. this gives you all the results you can calculate at this stage of development. \n",
    "\n",
    "Note: Since this is an early alpha version, you have to be careful and should at least visually confirm the results."
   ]
  },
  {
   "cell_type": "code",
   "execution_count": 1,
   "metadata": {
    "collapsed": false
   },
   "outputs": [
    {
     "ename": "NameError",
     "evalue": "name 'Coe' is not defined",
     "output_type": "error",
     "traceback": [
      "\u001b[0;31m---------------------------------------------------------------------------\u001b[0m",
      "\u001b[0;31mNameError\u001b[0m                                 Traceback (most recent call last)",
      "\u001b[0;32m<ipython-input-1-798248bb56ec>\u001b[0m in \u001b[0;36m<module>\u001b[0;34m()\u001b[0m\n\u001b[0;32m----> 1\u001b[0;31m \u001b[0;32mprint\u001b[0m \u001b[0mCoe\u001b[0m\u001b[0;34m.\u001b[0m\u001b[0mresult_methods\u001b[0m\u001b[0;34m\u001b[0m\u001b[0m\n\u001b[0m",
      "\u001b[0;31mNameError\u001b[0m: name 'Coe' is not defined"
     ]
    }
   ],
   "source": [
    "print Coe.result_methods"
   ]
  },
  {
   "cell_type": "markdown",
   "metadata": {},
   "source": [
    "This can be used on any meassurement. Depending on the measurement there will be more (e.g. Thellier) or fewer possibilities for results (e.g. viscosity).\n",
    "\n",
    "Generally a result can be accessed by typing ``YOUR_MEASUREMENT.result_THE-RESULT-YOU-WANT``. As an example let us calculate `bcr`, the coercivity of remanence\n",
    "\n",
    "Note: Since a sample can have multiple measurements, some of the results may give ``nan`` if the corresponding measurement couldnt be found. ``nan`` in this case means it hasn't been calculated or can not be calculated. \n"
   ]
  },
  {
   "cell_type": "code",
   "execution_count": 18,
   "metadata": {
    "collapsed": false
   },
   "outputs": [
    {
     "name": "stderr",
     "output_type": "stream",
     "text": [
      "2015-04-17 12:10:40,066: INFO       RockPy.MEASUREMENT.Backfield CALCULATING << Bcr >> parameter from linear interpolation\n",
      "INFO:RockPy.MEASUREMENT.Backfield:CALCULATING << Bcr >> parameter from linear interpolation\n",
      "2015-04-17 12:10:40,067: INFO       RockPy.MEASUREMENT.Backfield                ---    If sample is not saturated, value could be too low\n",
      "INFO:RockPy.MEASUREMENT.Backfield:               ---    If sample is not saturated, value could be too low\n"
     ]
    },
    {
     "name": "stdout",
     "output_type": "stream",
     "text": [
      "  row_name        bcr\n",
      "----------  ---------\n",
      "         0  2.023e-02\n"
     ]
    }
   ],
   "source": [
    "print Coe.result_bcr()"
   ]
  },
  {
   "cell_type": "markdown",
   "metadata": {},
   "source": [
    "Every result returns a ``RockPyData`` object. These are basically tables with rows and columns, the columns have names, in this case bcr. The columns can be accessed by typing ``RockPyData['column_name']``. This however returns a new ``RockPyData`` object with only one column.\n",
    "\n",
    "Each column in ``RockPyData`` consitst of value (for each row), error (for each row) and unit (only one). They can be accessed by using the ``RockPyData[column_name].v``, ``RockPyData[column_name].e`` and ``RockPyData[column_name].u`` respectively. \n",
    "\n",
    "Note: *for more information see ``RockPyData`` tutorial*"
   ]
  },
  {
   "cell_type": "code",
   "execution_count": null,
   "metadata": {
    "collapsed": true
   },
   "outputs": [],
   "source": []
  },
  {
   "cell_type": "code",
   "execution_count": null,
   "metadata": {
    "collapsed": true
   },
   "outputs": [],
   "source": []
  }
 ],
 "metadata": {
  "kernelspec": {
   "display_name": "Python 2",
   "language": "python",
   "name": "python2"
  },
  "language_info": {
   "codemirror_mode": {
    "name": "ipython",
    "version": 2
   },
   "file_extension": ".py",
   "mimetype": "text/x-python",
   "name": "python",
   "nbconvert_exporter": "python",
   "pygments_lexer": "ipython2",
   "version": "2.7.6"
  }
 },
 "nbformat": 4,
 "nbformat_minor": 0
}
