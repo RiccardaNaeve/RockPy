{
 "cells": [
  {
   "cell_type": "markdown",
   "metadata": {},
   "source": [
    "#Thellier Tutorial\n",
    "Welcome to the *thellier-thellier* tutorial. I will now guide you through the process of creating backfield measurements. We will quickly touch on importing RockPy on your system and adding samples. so first things first.\n",
    "importing RockPy\n",
    "first thing we have to do is import RockPy and get the plotting interface to actually display all plots inside of this notebook.\n",
    "We need to import a few python packages for everything to work. Dont worry about them, if need be, the functions will be explained."
   ]
  },
  {
   "cell_type": "code",
   "execution_count": 1,
   "metadata": {
    "collapsed": true
   },
   "outputs": [],
   "source": [
    "import sys\n",
    "import os.path\n",
    "%matplotlib inline"
   ]
  },
  {
   "cell_type": "code",
   "execution_count": 2,
   "metadata": {
    "collapsed": false
   },
   "outputs": [
    {
     "ename": "ImportError",
     "evalue": "No module named Rockpy",
     "output_type": "error",
     "traceback": [
      "\u001b[0;31m---------------------------------------------------------------------------\u001b[0m",
      "\u001b[0;31mImportError\u001b[0m                               Traceback (most recent call last)",
      "\u001b[0;32m<ipython-input-2-255a4c676a1c>\u001b[0m in \u001b[0;36m<module>\u001b[0;34m()\u001b[0m\n\u001b[0;32m----> 1\u001b[0;31m \u001b[0;32mimport\u001b[0m \u001b[0mRockpy\u001b[0m\u001b[0;34m\u001b[0m\u001b[0m\n\u001b[0m",
      "\u001b[0;31mImportError\u001b[0m: No module named Rockpy"
     ]
    }
   ],
   "source": [
    "import Rockpy"
   ]
  },
  {
   "cell_type": "markdown",
   "metadata": {},
   "source": [
    "If this does not work - and you get and 'ImportError: No module named Rockpy' message - you need to place the RockPy path into the PYTHONPATH variable of your system. For a permanent solution, please ask you system administrator or Google. A temporary fix is presented in the next few lines. First find your RockPy path:"
   ]
  },
  {
   "cell_type": "code",
   "execution_count": 3,
   "metadata": {
    "collapsed": true
   },
   "outputs": [],
   "source": [
    "home = os.path.expanduser('~')\n",
    "RockPy_path = os.path.join(home, 'PycharmProjects')"
   ]
  },
  {
   "cell_type": "code",
   "execution_count": 4,
   "metadata": {
    "collapsed": false
   },
   "outputs": [
    {
     "name": "stderr",
     "output_type": "stream",
     "text": [
      ":0: FutureWarning: IPython widgets are experimental and may change in the future.\n"
     ]
    }
   ],
   "source": [
    "sys.path.append(RockPy_path)\n",
    "import RockPy"
   ]
  },
  {
   "cell_type": "markdown",
   "metadata": {},
   "source": [
    "## Adding a sample\n",
    "\n",
    "Now we can make a sample. the sample that we will be using has been measured at the vftb. It consists of pure iron, therefore it should saturate easily. \n",
    "\n",
    "It's mass was 320 mg, so we can specify the mass, too. We also know the height an diameter so lets add that, too.\n",
    "Keep in mind, the default units in a sample are 'mm' and 'kg', if you used a different one, you have to use mass_unit and length_unit. As a general rule it is best to always specify the unit, so you immediately see them."
   ]
  },
  {
   "cell_type": "code",
   "execution_count": 5,
   "metadata": {
    "collapsed": false
   },
   "outputs": [
    {
     "name": "stderr",
     "output_type": "stream",
     "text": [
      "2015-04-17 14:43:11,589: INFO       RockPy.Structure.sample CREATING\t new sample << 1a >>\n",
      "INFO:RockPy.Structure.sample:CREATING\t new sample << 1a >>\n",
      "2015-04-17 14:43:11,590: INFO       RockPy.Structure.sample  ADDING\t << measurement >> mass\n",
      "INFO:RockPy.Structure.sample: ADDING\t << measurement >> mass\n",
      "2015-04-17 14:43:11,595: INFO       RockPy.Structure.sample  ADDING\t << measurement >> diameter\n",
      "INFO:RockPy.Structure.sample: ADDING\t << measurement >> diameter\n",
      "2015-04-17 14:43:11,601: INFO       RockPy.Structure.sample  ADDING\t << measurement >> height\n",
      "INFO:RockPy.Structure.sample: ADDING\t << measurement >> height\n",
      "2015-04-17 14:43:11,606: INFO       RockPy.Structure.sample  ADDING\t << measurement >> volume\n",
      "INFO:RockPy.Structure.sample: ADDING\t << measurement >> volume\n"
     ]
    }
   ],
   "source": [
    "Sample = RockPy.Sample(name='1a', mass = 320.0, mass_unit ='mg', height=5.17, diameter=5.84, length_unit='mm')"
   ]
  },
  {
   "cell_type": "markdown",
   "metadata": {},
   "source": [
    "So adding the sample worked and from the output you can see, that the sample was created, mass, height and diameter have been added as measurements. In addition to these, a fourth measurement has been added, the volume. This is done automatically when diameter and height are added, because we asume you have cylindrical samples. \n",
    "\n",
    "Note: If you do not, you would have to specify the `sample_shape='cube'` and specify `x_len, y_len, z_len` if you have a cubic sample, and `sample_shape='sphere', diameter = XX` in the unlikely case that you have a sperical sample."
   ]
  },
  {
   "cell_type": "markdown",
   "metadata": {},
   "source": [
    "## Adding the measurement\n",
    "\n",
    "Adding a `thellier` measurement is added like any other measurement. The possible results are quite numerous though. I would suggest to have a look at the [Standard Paleointensity Definitions](http://www.paleomag.net/SPD/home.html) for more information on how things are calculated.\n",
    "\n",
    "We first need to specify the path of the measurement file. In this case we are using a rhyolitic obsidian from the Roche Rosse flow in Lipari. It has been measured in the paleomagnetic lab of the LMU University in Niederlippach near Munich."
   ]
  },
  {
   "cell_type": "code",
   "execution_count": 6,
   "metadata": {
    "collapsed": false
   },
   "outputs": [],
   "source": [
    "thellier_file = os.path.join(RockPy.test_data_path, 'cryomag', 'NLCRY_Thellier_test.TT')"
   ]
  },
  {
   "cell_type": "markdown",
   "metadata": {},
   "source": [
    "As in the other tutorials, the `os.path.join` combines the arguments in parentethis into a path readable by your operating system. In this case the data is located in a folder called `cryomag`, inside that folder `NLCRY_Thellier_test.TT` is stored. This is the file we want to import.\n",
    "\n",
    "Adding the measurement is again done by `Sample.add_measurement`. With the parameters:\n",
    "\n",
    "1. `mtype`: the type of measurement, here **thellier**\n",
    "2. `machine`: the machine or file_format the data is stored in or has been measured in, here **cryomag**\n",
    "3. `mfile`: the file with the data, the one we just specified\n",
    "\n",
    "Lets try and add the measurement."
   ]
  },
  {
   "cell_type": "code",
   "execution_count": 7,
   "metadata": {
    "collapsed": false
   },
   "outputs": [
    {
     "name": "stderr",
     "output_type": "stream",
     "text": [
      "2015-04-17 14:43:14,347: INFO       RockPy.Structure.sample  ADDING\t << measurement >> thellier\n",
      "INFO:RockPy.Structure.sample: ADDING\t << measurement >> thellier\n",
      "2015-04-17 14:43:14,352: INFO       RockPy.MEASUREMENT   IMPORTING << cryomag , thellier >> data\n",
      "INFO:RockPy.MEASUREMENT:IMPORTING << cryomag , thellier >> data\n",
      "2015-04-17 14:43:14,355: INFO       RockPy.READIN        IMPORTING << 1a , CryoMag >> file: << /Users/mike/PycharmProjects/RockPy/Tutorials/test_data/cryomag/NLCRY_Thellier_test.TT >>\n",
      "INFO:RockPy.READIN:IMPORTING << 1a , CryoMag >> file: << /Users/mike/PycharmProjects/RockPy/Tutorials/test_data/cryomag/NLCRY_Thellier_test.TT >>\n"
     ]
    }
   ],
   "source": [
    "Thellier = Sample.add_measurement(mtype='thellier', machine='cryomag', mfile=thellier_file)"
   ]
  },
  {
   "cell_type": "markdown",
   "metadata": {},
   "source": [
    "If you have looked into the file, there is data for more than one sample in it. A second sample with the name \"2a\" is also in there. RockPy will only import the data for the sample with the name of the sample. This means if you had given the name 'mysample' to the `Sample`, it would have created an error. *This is something to be careful about*\n",
    "\n",
    "RockPy has now analzed the data and separated it into its different data-types. These are:\n",
    "\n",
    "1. **nrm**: The first thermal demagnetization step is assumed to be the NRM, it is equal to the first *TH* step\n",
    "2. **th**: These are the zero field demagnetization steps\n",
    "3. **pt**: These are the in-field remagnetization steps\n",
    "4. **ck**: These are all possible pTRM\\* checks\n",
    "5. **ac**: The additivity check data\n",
    "6. **tr**: The data from repeated demagnetization\n",
    "\n",
    "This data can always be directly accessed with Thellier.data[THE_DATA_TYPE]. It will return a `RockPyData` object that can be manipulated. However there is no need to manipulate the data, because RockPy does it all for you.\n",
    "\n",
    "Note: If you do want to access the data directly, the data_type is **always** lower case"
   ]
  },
  {
   "cell_type": "code",
   "execution_count": 8,
   "metadata": {
    "collapsed": false
   },
   "outputs": [
    {
     "name": "stdout",
     "output_type": "stream",
     "text": [
      "row_name         temp          x           y          z         sm       time        mag\n",
      "----------  ---------  ---------  ----------  ---------  ---------  ---------  ---------\n",
      "nrm[20]     2.000e+01  2.087e-08  -8.952e-09  5.049e-09  2.889e-10  7.353e+05  2.327e-08\n"
     ]
    }
   ],
   "source": [
    "print Thellier.data['nrm']"
   ]
  },
  {
   "cell_type": "markdown",
   "metadata": {},
   "source": [
    "As you can see the NRM data has been properly readin. Declination and inclination data is not directly stored and has to be calculated from the data. How this is done can be seen in the `RockPyData` tutorial.\n",
    "\n",
    "Immediately after the data has been read, RockPy will calculate the pTRM\\* acquisition of the sample by calculating the vector difference between the **pt(T)** and **th(T)** to generate the data-type: **ptrm**.\n",
    "\n",
    "## Results\n",
    "\n",
    "You can check what results can possibly be calculated using:"
   ]
  },
  {
   "cell_type": "code",
   "execution_count": 9,
   "metadata": {
    "collapsed": false
   },
   "outputs": [
    {
     "name": "stdout",
     "output_type": "stream",
     "text": [
      "['b_anc', 'beta', 'cdrat', 'ck_check_percent', 'ck_max_dev', 'd_t', 'delta_ac', 'delta_ck', 'delta_pal', 'delta_tr', 'drat', 'drat_tail', 'drats', 'f', 'f_vds', 'frac', 'g', 'gap_max', 'md_vds', 'mean_dev', 'mean_drat', 'n', 'n_ac', 'n_ptrm', 'n_tail', 'q', 'sigma', 'sigma_b_anc', 'slope', 'vds', 'w', 'x_int', 'y_int']\n"
     ]
    }
   ],
   "source": [
    "print Thellier.result_methods"
   ]
  },
  {
   "cell_type": "markdown",
   "metadata": {},
   "source": [
    "Let us first have a look at the data. "
   ]
  },
  {
   "cell_type": "code",
   "execution_count": 11,
   "metadata": {
    "collapsed": false
   },
   "outputs": [
    {
     "data": {
      "image/png": "[encoded data removed]",
      "text/plain": [
       "<matplotlib.figure.Figure at 0x1114b5ad0>"
      ]
     },
     "metadata": {},
     "output_type": "display_data"
    }
   ],
   "source": [
    "Thellier.plt_thellier()"
   ]
  },
  {
   "cell_type": "code",
   "execution_count": null,
   "metadata": {
    "collapsed": false
   },
   "outputs": [],
   "source": []
  },
  {
   "cell_type": "code",
   "execution_count": null,
   "metadata": {
    "collapsed": true
   },
   "outputs": [],
   "source": []
  },
  {
   "cell_type": "code",
   "execution_count": null,
   "metadata": {
    "collapsed": true
   },
   "outputs": [],
   "source": []
  }
 ],
 "metadata": {
  "kernelspec": {
   "display_name": "Python 2",
   "language": "python",
   "name": "python2"
  },
  "language_info": {
   "codemirror_mode": {
    "name": "ipython",
    "version": 2
   },
   "file_extension": ".py",
   "mimetype": "text/x-python",
   "name": "python",
   "nbconvert_exporter": "python",
   "pygments_lexer": "ipython2",
   "version": "2.7.6"
  }
 },
 "nbformat": 4,
 "nbformat_minor": 0
}
