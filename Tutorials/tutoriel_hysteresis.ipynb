{
 "cells": [
  {
   "cell_type": "code",
   "execution_count": 1,
   "metadata": {
    "collapsed": false
   },
   "outputs": [
    {
     "ename": "ImportError",
     "evalue": "No module named Rockpy",
     "output_type": "error",
     "traceback": [
      "\u001b[0;31m---------------------------------------------------------------------------\u001b[0m",
      "\u001b[0;31mImportError\u001b[0m                               Traceback (most recent call last)",
      "\u001b[0;32m<ipython-input-1-fdd56f3298b5>\u001b[0m in \u001b[0;36m<module>\u001b[0;34m()\u001b[0m\n\u001b[1;32m      1\u001b[0m \u001b[0;31m# first thing we have to do is import RockPy\u001b[0m\u001b[0;34m\u001b[0m\u001b[0;34m\u001b[0m\u001b[0m\n\u001b[0;32m----> 2\u001b[0;31m \u001b[0;32mimport\u001b[0m \u001b[0mRockpy\u001b[0m\u001b[0;34m\u001b[0m\u001b[0m\n\u001b[0m",
      "\u001b[0;31mImportError\u001b[0m: No module named Rockpy"
     ]
    }
   ],
   "source": [
    "# first thing we have to do is import RockPy\n",
    "import Rockpy\n",
    "# in case this does not wor we need to place its path into the PYTHONPATH variable of your system"
   ]
  },
  {
   "cell_type": "code",
   "execution_count": 2,
   "metadata": {
    "collapsed": true
   },
   "outputs": [],
   "source": [
    "import os.path\n",
    "from os.path import join\n",
    "import sys\n",
    "home = os.path.expanduser('~')\n",
    "RockPy_path = 'PycharmProjects' # you have to change this folder to the folder in which the RockPy folder sits\n",
    "# now we append the path to the PYTHONPATH so we can use RockPy\n",
    "sys.path.append(join(home, RockPy_path))"
   ]
  },
  {
   "cell_type": "code",
   "execution_count": 3,
   "metadata": {
    "collapsed": false
   },
   "outputs": [
    {
     "name": "stderr",
     "output_type": "stream",
     "text": [
      ":0: FutureWarning: IPython widgets are experimental and may change in the future.\n"
     ]
    }
   ],
   "source": [
    "# lets try again to import RockPy\n",
    "import RockPy"
   ]
  },
  {
   "cell_type": "code",
   "execution_count": 4,
   "metadata": {
    "collapsed": false
   },
   "outputs": [
    {
     "name": "stderr",
     "output_type": "stream",
     "text": [
      "2015-04-15 11:17:37,032: INFO       RockPy.Structure.sample CREATING\t new sample << pyrrotite >>\n",
      "INFO:RockPy.Structure.sample:CREATING\t new sample << pyrrotite >>\n"
     ]
    }
   ],
   "source": [
    "# now we can make a sample.\n",
    "# the sample that we will be using in this tutorial is a Pyrrhotite bearing sampe with close to single domain grains.\n",
    "Sample = RockPy.Sample(name='pyrrotite', mass = )"
   ]
  },
  {
   "cell_type": "code",
   "execution_count": null,
   "metadata": {
    "collapsed": true
   },
   "outputs": [],
   "source": [
    "# The new sample has now been created"
   ]
  }
 ],
 "metadata": {
  "kernelspec": {
   "display_name": "Python 2",
   "language": "python",
   "name": "python2"
  },
  "language_info": {
   "codemirror_mode": {
    "name": "ipython",
    "version": 2
   },
   "file_extension": ".py",
   "mimetype": "text/x-python",
   "name": "python",
   "nbconvert_exporter": "python",
   "pygments_lexer": "ipython2",
   "version": "2.7.6"
  }
 },
 "nbformat": 4,
 "nbformat_minor": 0
}
